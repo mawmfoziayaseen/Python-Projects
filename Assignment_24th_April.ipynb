{
  "nbformat": 4,
  "nbformat_minor": 0,
  "metadata": {
    "colab": {
      "provenance": []
    },
    "kernelspec": {
      "name": "python3",
      "display_name": "Python 3"
    },
    "language_info": {
      "name": "python"
    }
  },
  "cells": [
    {
      "cell_type": "code",
      "execution_count": 2,
      "metadata": {
        "id": "7PyEj460OIPa"
      },
      "outputs": [],
      "source": [
        "# Task 1"
      ]
    },
    {
      "cell_type": "code",
      "source": [
        "#Perform Data Cleaning, Preprocessing, and do Feature Engineering."
      ],
      "metadata": {
        "id": "4y8MJ3r0OzX1"
      },
      "execution_count": 3,
      "outputs": []
    },
    {
      "cell_type": "code",
      "source": [
        "import pandas as pd\n",
        "import numpy as np\n",
        "from sklearn.impute import SimpleImputer\n",
        "from sklearn.preprocessing import StandardScaler, OneHotEncoder\n",
        "from sklearn.compose import ColumnTransformer\n",
        "from sklearn.pipeline import Pipeline\n",
        "from sklearn.compose import ColumnTransformer\n",
        "from sklearn.feature_extraction.text import CountVectorizer\n",
        "from sklearn.feature_extraction.text import TfidfTransformer\n",
        "\n",
        "# Load the dataset\n",
        "data = pd.read_csv(\"/content/CCC_Data.csv\")\n",
        "\n",
        "# Display the first few rows of the dataframe\n",
        "print(\"Original Data:\")\n",
        "print(data.head())\n",
        "\n",
        "# Data Cleaning\n",
        "# Handling missing values\n",
        "data.fillna(data.median(), inplace=True)  # Filling missing values with median\n",
        "\n",
        "# Preprocessing\n",
        "# Separate features and target variable\n",
        "X = data\n",
        "y = data\n",
        "print(X)\n",
        "print(y)\n",
        "\n"
      ],
      "metadata": {
        "colab": {
          "base_uri": "https://localhost:8080/"
        },
        "id": "Sye0hFP9gxhS",
        "outputId": "f50e4b28-3775-407d-ed6d-4b0dd50aae14"
      },
      "execution_count": 17,
      "outputs": [
        {
          "output_type": "stream",
          "name": "stdout",
          "text": [
            "Original Data:\n",
            "   Sl_No  Customer Key  Avg_Credit_Limit  Total_Credit_Cards  \\\n",
            "0      1         87073            100000                   2   \n",
            "1      2         38414             50000                   3   \n",
            "2      3         17341             50000                   7   \n",
            "3      4         40496             30000                   5   \n",
            "4      5         47437            100000                   6   \n",
            "\n",
            "   Total_visits_bank  Total_visits_online  Total_calls_made  \n",
            "0                  1                    1                 0  \n",
            "1                  0                   10                 9  \n",
            "2                  1                    3                 4  \n",
            "3                  1                    1                 4  \n",
            "4                  0                   12                 3  \n",
            "     Sl_No  Customer Key  Avg_Credit_Limit  Total_Credit_Cards  \\\n",
            "0        1         87073            100000                   2   \n",
            "1        2         38414             50000                   3   \n",
            "2        3         17341             50000                   7   \n",
            "3        4         40496             30000                   5   \n",
            "4        5         47437            100000                   6   \n",
            "..     ...           ...               ...                 ...   \n",
            "655    656         51108             99000                  10   \n",
            "656    657         60732             84000                  10   \n",
            "657    658         53834            145000                   8   \n",
            "658    659         80655            172000                  10   \n",
            "659    660         80150            167000                   9   \n",
            "\n",
            "     Total_visits_bank  Total_visits_online  Total_calls_made  \n",
            "0                    1                    1                 0  \n",
            "1                    0                   10                 9  \n",
            "2                    1                    3                 4  \n",
            "3                    1                    1                 4  \n",
            "4                    0                   12                 3  \n",
            "..                 ...                  ...               ...  \n",
            "655                  1                   10                 0  \n",
            "656                  1                   13                 2  \n",
            "657                  1                    9                 1  \n",
            "658                  1                   15                 0  \n",
            "659                  0                   12                 2  \n",
            "\n",
            "[660 rows x 7 columns]\n",
            "     Sl_No  Customer Key  Avg_Credit_Limit  Total_Credit_Cards  \\\n",
            "0        1         87073            100000                   2   \n",
            "1        2         38414             50000                   3   \n",
            "2        3         17341             50000                   7   \n",
            "3        4         40496             30000                   5   \n",
            "4        5         47437            100000                   6   \n",
            "..     ...           ...               ...                 ...   \n",
            "655    656         51108             99000                  10   \n",
            "656    657         60732             84000                  10   \n",
            "657    658         53834            145000                   8   \n",
            "658    659         80655            172000                  10   \n",
            "659    660         80150            167000                   9   \n",
            "\n",
            "     Total_visits_bank  Total_visits_online  Total_calls_made  \n",
            "0                    1                    1                 0  \n",
            "1                    0                   10                 9  \n",
            "2                    1                    3                 4  \n",
            "3                    1                    1                 4  \n",
            "4                    0                   12                 3  \n",
            "..                 ...                  ...               ...  \n",
            "655                  1                   10                 0  \n",
            "656                  1                   13                 2  \n",
            "657                  1                    9                 1  \n",
            "658                  1                   15                 0  \n",
            "659                  0                   12                 2  \n",
            "\n",
            "[660 rows x 7 columns]\n"
          ]
        }
      ]
    },
    {
      "cell_type": "code",
      "source": [
        "# Import necessary libraries\n",
        "import pandas as pd\n",
        "from sklearn.preprocessing import StandardScaler\n",
        "\n",
        "# Load your data\n",
        "df = pd.read_csv('CCC_Data.csv')\n",
        "\n",
        "# Data Cleaning\n",
        "## Remove duplicates\n",
        "df = df.drop_duplicates()\n",
        "\n",
        "## Handle missing values. You can fill with mean, median, mode, or drop them, etc.\n",
        "df = df.fillna(df.mean())\n",
        "\n",
        "# Preprocessing\n",
        "## Convert categorical variables into dummy/indicator variables (One Hot Encoding)\n",
        "df = pd.get_dummies(df)\n",
        "\n",
        "## Standardize features by removing the mean and scaling to unit variance\n",
        "scaler = StandardScaler()\n",
        "df = pd.DataFrame(scaler.fit_transform(df), columns = df.columns)\n",
        "\n",
        "# Feature Engineering\n",
        "## Create new features based on existing features (e.g., interaction between features, polynomial features, etc.)\n",
        "## This is highly dependent on your dataset and the problem you're trying to solve\n"
      ],
      "metadata": {
        "id": "SRCMOCCPoDuO"
      },
      "execution_count": null,
      "outputs": []
    },
    {
      "cell_type": "code",
      "source": [
        "# Task 2"
      ],
      "metadata": {
        "id": "wbJgtVszpLki"
      },
      "execution_count": 22,
      "outputs": []
    },
    {
      "cell_type": "code",
      "source": [
        "#Perform K-means clustering with clusters range of 1-20 and calculate  inertia for each number of clusters."
      ],
      "metadata": {
        "id": "NfWvVwv7pLsD"
      },
      "execution_count": 23,
      "outputs": []
    },
    {
      "cell_type": "code",
      "source": [
        "import pandas as pd\n",
        "from sklearn.cluster import KMeans\n",
        "import matplotlib.pyplot as plt\n",
        "\n",
        "# Load your data (replace 'data.csv' with your actual file path)\n",
        "data = pd.read_csv('data.csv')\n",
        "\n",
        "# Select features for clustering (replace with your actual feature columns)\n",
        "features = ['feature1', 'feature2', 'feature3']  # Replace with your feature names\n",
        "X = data[features]\n",
        "\n",
        "inertias = []  # List to store inertia for each k value\n",
        "\n",
        "# Perform K-means clustering for k values from 1 to 20\n",
        "for k in range(1, 21):\n",
        "  kmeans = KMeans(n_clusters=k, random_state=42)  # Set random_state for reproducibility\n",
        "  kmeans.fit(X)\n",
        "  inertias.append(kmeans.inertia_)\n",
        "\n",
        "# Plot the elbow method\n",
        "plt.plot(range(1, 21), inertias, 'bx-')\n",
        "plt.xlabel('Number of clusters (k)')\n",
        "plt.ylabel('Inertia')\n",
        "plt.title('Elbow Method for K-Means Clustering')\n",
        "plt.grid(True)\n",
        "plt.show()\n",
        "\n",
        "# Analyze the plot to determine the optimal number of clusters based on the elbow point\n"
      ],
      "metadata": {
        "colab": {
          "base_uri": "https://localhost:8080/",
          "height": 373
        },
        "id": "gu2kX1_7pLuy",
        "outputId": "af7c6bad-058b-4051-e49c-542001757202"
      },
      "execution_count": 34,
      "outputs": [
        {
          "output_type": "error",
          "ename": "FileNotFoundError",
          "evalue": "[Errno 2] No such file or directory: 'data.csv'",
          "traceback": [
            "\u001b[0;31m---------------------------------------------------------------------------\u001b[0m",
            "\u001b[0;31mFileNotFoundError\u001b[0m                         Traceback (most recent call last)",
            "\u001b[0;32m<ipython-input-34-1e56a67b7704>\u001b[0m in \u001b[0;36m<cell line: 6>\u001b[0;34m()\u001b[0m\n\u001b[1;32m      4\u001b[0m \u001b[0;34m\u001b[0m\u001b[0m\n\u001b[1;32m      5\u001b[0m \u001b[0;31m# Load your data (replace 'data.csv' with your actual file path)\u001b[0m\u001b[0;34m\u001b[0m\u001b[0;34m\u001b[0m\u001b[0m\n\u001b[0;32m----> 6\u001b[0;31m \u001b[0mdata\u001b[0m \u001b[0;34m=\u001b[0m \u001b[0mpd\u001b[0m\u001b[0;34m.\u001b[0m\u001b[0mread_csv\u001b[0m\u001b[0;34m(\u001b[0m\u001b[0;34m'data.csv'\u001b[0m\u001b[0;34m)\u001b[0m\u001b[0;34m\u001b[0m\u001b[0;34m\u001b[0m\u001b[0m\n\u001b[0m\u001b[1;32m      7\u001b[0m \u001b[0;34m\u001b[0m\u001b[0m\n\u001b[1;32m      8\u001b[0m \u001b[0;31m# Select features for clustering (replace with your actual feature columns)\u001b[0m\u001b[0;34m\u001b[0m\u001b[0;34m\u001b[0m\u001b[0m\n",
            "\u001b[0;32m/usr/local/lib/python3.10/dist-packages/pandas/io/parsers/readers.py\u001b[0m in \u001b[0;36mread_csv\u001b[0;34m(filepath_or_buffer, sep, delimiter, header, names, index_col, usecols, dtype, engine, converters, true_values, false_values, skipinitialspace, skiprows, skipfooter, nrows, na_values, keep_default_na, na_filter, verbose, skip_blank_lines, parse_dates, infer_datetime_format, keep_date_col, date_parser, date_format, dayfirst, cache_dates, iterator, chunksize, compression, thousands, decimal, lineterminator, quotechar, quoting, doublequote, escapechar, comment, encoding, encoding_errors, dialect, on_bad_lines, delim_whitespace, low_memory, memory_map, float_precision, storage_options, dtype_backend)\u001b[0m\n\u001b[1;32m    910\u001b[0m     \u001b[0mkwds\u001b[0m\u001b[0;34m.\u001b[0m\u001b[0mupdate\u001b[0m\u001b[0;34m(\u001b[0m\u001b[0mkwds_defaults\u001b[0m\u001b[0;34m)\u001b[0m\u001b[0;34m\u001b[0m\u001b[0;34m\u001b[0m\u001b[0m\n\u001b[1;32m    911\u001b[0m \u001b[0;34m\u001b[0m\u001b[0m\n\u001b[0;32m--> 912\u001b[0;31m     \u001b[0;32mreturn\u001b[0m \u001b[0m_read\u001b[0m\u001b[0;34m(\u001b[0m\u001b[0mfilepath_or_buffer\u001b[0m\u001b[0;34m,\u001b[0m \u001b[0mkwds\u001b[0m\u001b[0;34m)\u001b[0m\u001b[0;34m\u001b[0m\u001b[0;34m\u001b[0m\u001b[0m\n\u001b[0m\u001b[1;32m    913\u001b[0m \u001b[0;34m\u001b[0m\u001b[0m\n\u001b[1;32m    914\u001b[0m \u001b[0;34m\u001b[0m\u001b[0m\n",
            "\u001b[0;32m/usr/local/lib/python3.10/dist-packages/pandas/io/parsers/readers.py\u001b[0m in \u001b[0;36m_read\u001b[0;34m(filepath_or_buffer, kwds)\u001b[0m\n\u001b[1;32m    575\u001b[0m \u001b[0;34m\u001b[0m\u001b[0m\n\u001b[1;32m    576\u001b[0m     \u001b[0;31m# Create the parser.\u001b[0m\u001b[0;34m\u001b[0m\u001b[0;34m\u001b[0m\u001b[0m\n\u001b[0;32m--> 577\u001b[0;31m     \u001b[0mparser\u001b[0m \u001b[0;34m=\u001b[0m \u001b[0mTextFileReader\u001b[0m\u001b[0;34m(\u001b[0m\u001b[0mfilepath_or_buffer\u001b[0m\u001b[0;34m,\u001b[0m \u001b[0;34m**\u001b[0m\u001b[0mkwds\u001b[0m\u001b[0;34m)\u001b[0m\u001b[0;34m\u001b[0m\u001b[0;34m\u001b[0m\u001b[0m\n\u001b[0m\u001b[1;32m    578\u001b[0m \u001b[0;34m\u001b[0m\u001b[0m\n\u001b[1;32m    579\u001b[0m     \u001b[0;32mif\u001b[0m \u001b[0mchunksize\u001b[0m \u001b[0;32mor\u001b[0m \u001b[0miterator\u001b[0m\u001b[0;34m:\u001b[0m\u001b[0;34m\u001b[0m\u001b[0;34m\u001b[0m\u001b[0m\n",
            "\u001b[0;32m/usr/local/lib/python3.10/dist-packages/pandas/io/parsers/readers.py\u001b[0m in \u001b[0;36m__init__\u001b[0;34m(self, f, engine, **kwds)\u001b[0m\n\u001b[1;32m   1405\u001b[0m \u001b[0;34m\u001b[0m\u001b[0m\n\u001b[1;32m   1406\u001b[0m         \u001b[0mself\u001b[0m\u001b[0;34m.\u001b[0m\u001b[0mhandles\u001b[0m\u001b[0;34m:\u001b[0m \u001b[0mIOHandles\u001b[0m \u001b[0;34m|\u001b[0m \u001b[0;32mNone\u001b[0m \u001b[0;34m=\u001b[0m \u001b[0;32mNone\u001b[0m\u001b[0;34m\u001b[0m\u001b[0;34m\u001b[0m\u001b[0m\n\u001b[0;32m-> 1407\u001b[0;31m         \u001b[0mself\u001b[0m\u001b[0;34m.\u001b[0m\u001b[0m_engine\u001b[0m \u001b[0;34m=\u001b[0m \u001b[0mself\u001b[0m\u001b[0;34m.\u001b[0m\u001b[0m_make_engine\u001b[0m\u001b[0;34m(\u001b[0m\u001b[0mf\u001b[0m\u001b[0;34m,\u001b[0m \u001b[0mself\u001b[0m\u001b[0;34m.\u001b[0m\u001b[0mengine\u001b[0m\u001b[0;34m)\u001b[0m\u001b[0;34m\u001b[0m\u001b[0;34m\u001b[0m\u001b[0m\n\u001b[0m\u001b[1;32m   1408\u001b[0m \u001b[0;34m\u001b[0m\u001b[0m\n\u001b[1;32m   1409\u001b[0m     \u001b[0;32mdef\u001b[0m \u001b[0mclose\u001b[0m\u001b[0;34m(\u001b[0m\u001b[0mself\u001b[0m\u001b[0;34m)\u001b[0m \u001b[0;34m->\u001b[0m \u001b[0;32mNone\u001b[0m\u001b[0;34m:\u001b[0m\u001b[0;34m\u001b[0m\u001b[0;34m\u001b[0m\u001b[0m\n",
            "\u001b[0;32m/usr/local/lib/python3.10/dist-packages/pandas/io/parsers/readers.py\u001b[0m in \u001b[0;36m_make_engine\u001b[0;34m(self, f, engine)\u001b[0m\n\u001b[1;32m   1659\u001b[0m                 \u001b[0;32mif\u001b[0m \u001b[0;34m\"b\"\u001b[0m \u001b[0;32mnot\u001b[0m \u001b[0;32min\u001b[0m \u001b[0mmode\u001b[0m\u001b[0;34m:\u001b[0m\u001b[0;34m\u001b[0m\u001b[0;34m\u001b[0m\u001b[0m\n\u001b[1;32m   1660\u001b[0m                     \u001b[0mmode\u001b[0m \u001b[0;34m+=\u001b[0m \u001b[0;34m\"b\"\u001b[0m\u001b[0;34m\u001b[0m\u001b[0;34m\u001b[0m\u001b[0m\n\u001b[0;32m-> 1661\u001b[0;31m             self.handles = get_handle(\n\u001b[0m\u001b[1;32m   1662\u001b[0m                 \u001b[0mf\u001b[0m\u001b[0;34m,\u001b[0m\u001b[0;34m\u001b[0m\u001b[0;34m\u001b[0m\u001b[0m\n\u001b[1;32m   1663\u001b[0m                 \u001b[0mmode\u001b[0m\u001b[0;34m,\u001b[0m\u001b[0;34m\u001b[0m\u001b[0;34m\u001b[0m\u001b[0m\n",
            "\u001b[0;32m/usr/local/lib/python3.10/dist-packages/pandas/io/common.py\u001b[0m in \u001b[0;36mget_handle\u001b[0;34m(path_or_buf, mode, encoding, compression, memory_map, is_text, errors, storage_options)\u001b[0m\n\u001b[1;32m    857\u001b[0m         \u001b[0;32mif\u001b[0m \u001b[0mioargs\u001b[0m\u001b[0;34m.\u001b[0m\u001b[0mencoding\u001b[0m \u001b[0;32mand\u001b[0m \u001b[0;34m\"b\"\u001b[0m \u001b[0;32mnot\u001b[0m \u001b[0;32min\u001b[0m \u001b[0mioargs\u001b[0m\u001b[0;34m.\u001b[0m\u001b[0mmode\u001b[0m\u001b[0;34m:\u001b[0m\u001b[0;34m\u001b[0m\u001b[0;34m\u001b[0m\u001b[0m\n\u001b[1;32m    858\u001b[0m             \u001b[0;31m# Encoding\u001b[0m\u001b[0;34m\u001b[0m\u001b[0;34m\u001b[0m\u001b[0m\n\u001b[0;32m--> 859\u001b[0;31m             handle = open(\n\u001b[0m\u001b[1;32m    860\u001b[0m                 \u001b[0mhandle\u001b[0m\u001b[0;34m,\u001b[0m\u001b[0;34m\u001b[0m\u001b[0;34m\u001b[0m\u001b[0m\n\u001b[1;32m    861\u001b[0m                 \u001b[0mioargs\u001b[0m\u001b[0;34m.\u001b[0m\u001b[0mmode\u001b[0m\u001b[0;34m,\u001b[0m\u001b[0;34m\u001b[0m\u001b[0;34m\u001b[0m\u001b[0m\n",
            "\u001b[0;31mFileNotFoundError\u001b[0m: [Errno 2] No such file or directory: 'data.csv'"
          ]
        }
      ]
    },
    {
      "cell_type": "code",
      "source": [
        "# Task 3"
      ],
      "metadata": {
        "id": "kphRsC4KqB6G"
      },
      "execution_count": 35,
      "outputs": []
    },
    {
      "cell_type": "code",
      "source": [
        "#: Plot elbow graph and determine accurate number of clusters."
      ],
      "metadata": {
        "id": "4qeGBLaqqB88"
      },
      "execution_count": 27,
      "outputs": []
    },
    {
      "cell_type": "code",
      "source": [
        "import pandas as pd\n",
        "import numpy as np\n",
        "from sklearn.cluster import KMeans\n",
        "import matplotlib.pyplot as plt\n",
        "import warnings\n",
        "warnings.filterwarnings(\"ignore\")\n",
        "\n",
        "# Load the dataset\n",
        "data = pd.read_csv(\"/content/CCC_Data.csv\")\n",
        "\n",
        "# Display the first few rows of the dataframe\n",
        "print(\"Original Data:\")\n",
        "print(data.head())\n",
        "\n",
        "# Select features for clustering\n",
        "features = data.columns[1:]  # Assuming the target variable is in the first column\n",
        "\n",
        "X = data[features]\n",
        "\n",
        "# Calculate inertia for different values of k\n",
        "inertias = []\n",
        "for k in range(1, 21):\n",
        "    kmeans = KMeans(n_clusters=k, random_state=42)\n",
        "    kmeans.fit(X)\n",
        "    inertias.append(kmeans.inertia_)\n",
        "\n",
        "# Plot the elbow graph\n",
        "plt.plot(range(1, 21), inertias, 'bx-')\n",
        "plt.xlabel('Number of clusters (k)')\n",
        "plt.ylabel('Inertia')\n",
        "plt.title('Elbow Method for K-Means Clustering')\n",
        "plt.grid(True)\n",
        "plt.show()\n",
        "\n",
        "# Determine the accurate number of clusters based on the elbow point\n"
      ],
      "metadata": {
        "colab": {
          "base_uri": "https://localhost:8080/",
          "height": 715
        },
        "id": "gb_A6aKsr3Sq",
        "outputId": "0fb77b62-3b30-4076-d01a-73deba2e33b0"
      },
      "execution_count": 29,
      "outputs": [
        {
          "output_type": "stream",
          "name": "stdout",
          "text": [
            "Original Data:\n",
            "   Sl_No  Customer Key  Avg_Credit_Limit  Total_Credit_Cards  \\\n",
            "0      1         87073            100000                   2   \n",
            "1      2         38414             50000                   3   \n",
            "2      3         17341             50000                   7   \n",
            "3      4         40496             30000                   5   \n",
            "4      5         47437            100000                   6   \n",
            "\n",
            "   Total_visits_bank  Total_visits_online  Total_calls_made  \n",
            "0                  1                    1                 0  \n",
            "1                  0                   10                 9  \n",
            "2                  1                    3                 4  \n",
            "3                  1                    1                 4  \n",
            "4                  0                   12                 3  \n"
          ]
        },
        {
          "output_type": "display_data",
          "data": {
            "text/plain": [
              "<Figure size 640x480 with 1 Axes>"
            ],
            "image/png": "[encoded data removed]"
          },
          "metadata": {}
        }
      ]
    },
    {
      "cell_type": "code",
      "source": [
        "# Task 4"
      ],
      "metadata": {
        "id": "U3FrNEEEr3U9"
      },
      "execution_count": 31,
      "outputs": []
    },
    {
      "cell_type": "code",
      "source": [
        "# Re-train model on chosen number of clusters."
      ],
      "metadata": {
        "id": "5JaM_mEir3YC"
      },
      "execution_count": 32,
      "outputs": []
    },
    {
      "cell_type": "code",
      "source": [
        "import pandas as pd\n",
        "from sklearn.cluster import KMeans\n",
        "\n",
        "# Load the dataset\n",
        "data = pd.read_csv(\"/content/CCC_Data.csv\")\n",
        "\n",
        "# Select features for clustering\n",
        "features = data.columns[1:]  # Assuming the target variable is in the first column\n",
        "X = data[features]\n",
        "\n",
        "# Determine the chosen number of clusters based on the elbow method\n",
        "chosen_clusters = 4  # Change this to your chosen number of clusters\n",
        "\n",
        "# Retrain the K-means model with the chosen number of clusters\n",
        "kmeans = KMeans(n_clusters=chosen_clusters, random_state=42)\n",
        "kmeans.fit(X)\n",
        "\n",
        "# Add cluster labels to the original dataset\n",
        "data['Cluster'] = kmeans.labels_\n",
        "\n",
        "# Display the cluster centers\n",
        "print(\"Cluster Centers:\")\n",
        "print(kmeans.cluster_centers_)\n",
        "\n",
        "# Display the data with cluster labels\n",
        "print(\"\\nData with Cluster Labels:\")\n",
        "print(data.head())\n"
      ],
      "metadata": {
        "colab": {
          "base_uri": "https://localhost:8080/"
        },
        "id": "4EXSdv4wr3cb",
        "outputId": "5aab87e5-0430-43d5-b215-b45c7a1168a7"
      },
      "execution_count": 33,
      "outputs": [
        {
          "output_type": "stream",
          "name": "stdout",
          "text": [
            "Cluster Centers:\n",
            "[[7.73562136e+04 1.54363636e+04 3.82727273e+00 2.26363636e+00\n",
            "  2.28181818e+00 4.47727273e+00]\n",
            " [3.21327520e+04 1.69251969e+04 4.25590551e+00 2.40551181e+00\n",
            "  2.12992126e+00 4.09055118e+00]\n",
            " [5.62876579e+04 1.55473684e+05 8.76315789e+00 6.05263158e-01\n",
            "  1.09473684e+01 1.00000000e+00]\n",
            " [6.13130811e+04 6.22702703e+04 5.74324324e+00 3.06756757e+00\n",
            "  1.76351351e+00 2.04729730e+00]]\n",
            "\n",
            "Data with Cluster Labels:\n",
            "   Sl_No  Customer Key  Avg_Credit_Limit  Total_Credit_Cards  \\\n",
            "0      1         87073            100000                   2   \n",
            "1      2         38414             50000                   3   \n",
            "2      3         17341             50000                   7   \n",
            "3      4         40496             30000                   5   \n",
            "4      5         47437            100000                   6   \n",
            "\n",
            "   Total_visits_bank  Total_visits_online  Total_calls_made  Cluster  \n",
            "0                  1                    1                 0        3  \n",
            "1                  0                   10                 9        3  \n",
            "2                  1                    3                 4        1  \n",
            "3                  1                    1                 4        1  \n",
            "4                  0                   12                 3        3  \n"
          ]
        }
      ]
    },
    {
      "cell_type": "code",
      "source": [],
      "metadata": {
        "id": "egkEjHMJspMD"
      },
      "execution_count": null,
      "outputs": []
    }
  ]
}