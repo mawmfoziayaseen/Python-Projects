{
  "nbformat": 4,
  "nbformat_minor": 0,
  "metadata": {
    "colab": {
      "provenance": []
    },
    "kernelspec": {
      "name": "python3",
      "display_name": "Python 3"
    },
    "language_info": {
      "name": "python"
    }
  },
  "cells": [
    {
      "cell_type": "code",
      "execution_count": 45,
      "metadata": {
        "id": "5PPOdGJyQfrx"
      },
      "outputs": [],
      "source": [
        "# Project 3"
      ]
    },
    {
      "cell_type": "code",
      "source": [
        "#The Implementation of Speech Recognition using Mel-Frequency Cepstrum Coefficients (MFCC) and machine learning method based on Python\n",
        "\n",
        "#Use librosa library to extract features of the audio files by importing MFCC."
      ],
      "metadata": {
        "id": "k7iZfaCUQ9E-"
      },
      "execution_count": 46,
      "outputs": []
    },
    {
      "cell_type": "code",
      "source": [
        "audio= (\"/content/Afnan 1.wav\",\"/content/Afnan 2.wav\",\"/content/Afnan 3.wav\",\"/content/Afnan 4.wav\",\"/content/Afnan 5.wav\",\"/content/Afnan 6.wav\",\"/content/Afnan 7.wav\",\"/content/Azka 1.m4a\",\"/content/Azka 2.m4a\",\"/content/Azka 3.m4a\",\"/content/Azka 4.m4a\",\"/content/Azka 5.m4a\",\"/content/Azka 6.m4a\",\"/content/Azka 7.m4a\",\"/content/Fatima 1.wav\",\"/content/Afnan 5.wav\",\"/content/Afnan 6.wav\",\"/content/Afnan 7.wav\",\"/content/Azka 1.m4a\",\"/content/Azka 2.m4a\",\"/content/Azka 3.m4a\",\"/content/Azka 4.m4a\",\"/content/Azka 5.m4a\",\"/content/Azka 6.m4a\",\"/content/Azka 7.m4a\",\"/content/Fatima 1.wav\",\"/content/Afnan 5.wav\",\"/content/Afnan 6.wav\",\"/content/Afnan 7.wav\",\"/content/Azka 1.m4a\",\"/content/Azka 2.m4a\",\"/content/Azka 3.m4a\",\"/content/Azka 4.m4a\",\"/content/Azka 5.m4a\",\"/content/Azka 6.m4a\",\"/content/Azka 7.m4a\",\"/content/Fatima 1.wav\",\"/content/Fatima 2.wav\",\"/content/Fatima 3.wav\",\"/content/Fatima 4.wav\",\"/content/Fatima 5.wav\",\"/content/Fatima 6.wav\",\"/content/Fatima 7.wav\",\"/content/Fozia 1.m4a\",\"/content/Fozia 2.m4a\",\"/content/Fozia 3.m4a\",\"/content/Fozia 4.m4a\",\"/content/Fozia 5.m4a\",\"/content/Fozia 6.m4a\",\"/content/Fozia 7.m4a\",\"/content/Fozia 8.m4a\",\"/content/KJ 1.wav\",\"/content/KJ 2.wav\",\"/content/KJ 3.wav\",\"/content/KJ 4.wav\",\"/content/KJ 5.wav\",\"/content/KJ 6.wav\",\"/content/KJ 7.wav\",\"/content/Maha 1.m4a\",\"/content/Maha 2.m4a\",\"/content/Maha 3.m4a\",\"/content/Maha 4.m4a\",\"/content/Maha 5.m4a\",\"/content/Maha 6.m4a\",\"/content/Maha 7.m4a\",\"/content/Muhammad 1.m4a\",\"/content/Muhammad 2.m4a\",\"/content/Muhammad 3.m4a\",\"/content/Muhammad 4.m4a\",\"/content/Muhammad 5.m4a\",\"/content/Muhammad 6.m4a\",\"/content/Muhammad 7.m4a\",\"/content/Sajid 1.wav\",\"/content/Sajid 2.wav\",\"/content/Sajid 3.wav\",\"/content/Sajid 4.wav\",\"/content/Sajid 5.wav\",\"/content/Sajid 6.wav\",\"/content/Sajid 7.wav\",\"/content/Wareesha 1.m4a\",\"/content/Wareesha 2.m4a\",\"/content/Wareesha 3.m4a\",\"/content/Wareesha 4.m4a\",\"/content/Wareesha 5.m4a\",\"/content/Wareesha 6.m4a\",\"/content/Wareesha 7.m4a\",\"/content/hamza 1.wav\",\"/content/hamza 2.wav\",\"/content/hamza 3.wav\",\"/content/hamza 4.wav\",\"/content/hamza 5.wav\",\"/content/hamza 6.wav\",\"/content/hamza 7.wav\",\"/content/maryyam 1.wav\",\"/content/maryyam 2.wav\",\"/content/maryyam 3.wav\",\"/content/maryyam 4.wav\",\"/content/maryyam 5.wav\",\"/content/maryyam 6.wav\",\"/content/maryyam 7.wav\",\"/content/muniba 1.wav\",\"/content/muniba 2.wav\",\"/content/muniba 3.wav\",\"/content/muniba 4.wav\",\"/content/muniba 5.wav\",\"/content/muniba 6.wav\",\"/content/muniba 7.wav\",\"/content/suhaira 1.wav\",\"/content/suhaira 2.wav\",\"/content/suhaira 3.wav\",\"/content/suhaira 4.wav\",\"/content/suhaira 5.wav\",\"/content/suhaira 6.wav\")"
      ],
      "metadata": {
        "id": "E4u_oDYEiMuY"
      },
      "execution_count": 51,
      "outputs": []
    },
    {
      "cell_type": "code",
      "source": [
        "labels = [\"label1\", \"label2\", \"label3\", \"label4\", \"label5\", \"label6\", \"label7\",\"label8\", \"label9\", \"label10\", \"label11\", \"label12\", \"label13\", \"label14\",\"label15\", \"label16\", \"label17\", \"label18\", \"label19\", \"label20\", \"label21\",\"label22\", \"label23\", \"label24\", \"label25\", \"label26\", \"label27\", \"label28\",\"label29\", \"label30\", \"label31\", \"label32\", \"label33\", \"label34\", \"label35\"\"label36\", \"label37\", \"label38\", \"label39\", \"label40\", \"label41\", \"label42\",\"label43\", \"label44\", \"label45\", \"label46\", \"label47\", \"label48\", \"label49\",\"label50\", \"label51\", \"label52\", \"label53\", \"label54\", \"label55\", \"label56\",\"label57\", \"label58\", \"label59\", \"label60\", \"label61\", \"label62\", \"label63\",\"label164\", \"label65\", \"label66\", \"label67\", \"label68\", \"label69\", \"label70\",\"labe7l\", \"label72\", \"label73\", \"label74\", \"label75\", \"label76\", \"label77\",\"label78\",  \"label79\",\"label80\", \"label81\", \"label82\", \"label83\", \"label84\",\"label85\", \"label86\", \"label87\", \"label88\", \"label89\", \"label90\"]"
      ],
      "metadata": {
        "id": "zLFUeYYpl_N4"
      },
      "execution_count": 52,
      "outputs": []
    },
    {
      "cell_type": "code",
      "source": [
        "# Task 1"
      ],
      "metadata": {
        "id": "A-8LVuPm53M3"
      },
      "execution_count": 53,
      "outputs": []
    },
    {
      "cell_type": "code",
      "source": [
        "#Use librosa library to extract features of the audio files by importing MFCC."
      ],
      "metadata": {
        "id": "JvdWsAtB6AtT"
      },
      "execution_count": 54,
      "outputs": []
    },
    {
      "cell_type": "code",
      "source": [
        "import numpy as np\n",
        "import pandas as pd\n",
        "import librosa\n",
        "from sklearn.model_selection import train_test_split\n",
        "from sklearn.preprocessing import LabelEncoder\n",
        "from sklearn.ensemble import RandomForestClassifier\n",
        "from sklearn.svm import SVC\n",
        "from sklearn.metrics import accuracy_score\n",
        "import warnings\n",
        "warnings.filterwarnings(\"ignore\")\n",
        "\n",
        "# Define file paths and labels\n",
        "file_paths = [\"/content/Afnan 1.wav\",\"/content/Afnan 2.wav\",\"/content/Afnan 3.wav\",\"/content/Afnan 4.wav\",\"/content/Afnan 5.wav\",\"/content/Afnan 6.wav\",\"/content/Afnan 7.wav\",\"/content/Azka 1.m4a\",\"/content/Azka 2.m4a\",\"/content/Azka 3.m4a\",\"/content/Azka 4.m4a\",\"/content/Azka 5.m4a\",\"/content/Azka 6.m4a\",\"/content/Azka 7.m4a\",\"/content/Fatima 1.wav\",\"/content/Afnan 5.wav\",\"/content/Afnan 6.wav\",\"/content/Afnan 7.wav\",\"/content/Azka 1.m4a\",\"/content/Azka 2.m4a\",\"/content/Azka 3.m4a\",\"/content/Azka 4.m4a\",\"/content/Azka 5.m4a\",\"/content/Azka 6.m4a\",\"/content/Azka 7.m4a\",\"/content/Fatima 1.wav\",\"/content/Afnan 5.wav\",\"/content/Afnan 6.wav\",\"/content/Afnan 7.wav\",\"/content/Azka 1.m4a\",\"/content/Azka 2.m4a\",\"/content/Azka 3.m4a\",\"/content/Azka 4.m4a\",\"/content/Azka 5.m4a\",\"/content/Azka 6.m4a\",\"/content/Azka 7.m4a\",\"/content/Fatima 1.wav\",\"/content/Fatima 2.wav\",\"/content/Fatima 3.wav\",\"/content/Fatima 4.wav\",\"/content/Fatima 5.wav\",\"/content/Fatima 6.wav\",\"/content/Fatima 7.wav\",\"/content/Fozia 1.m4a\",\"/content/Fozia 2.m4a\",\"/content/Fozia 3.m4a\",\"/content/Fozia 4.m4a\",\"/content/Fozia 5.m4a\",\"/content/Fozia 6.m4a\",\"/content/Fozia 7.m4a\",\"/content/KJ 1.wav\",\"/content/KJ 2.wav\",\"/content/KJ 3.wav\",\"/content/KJ 4.wav\",\"/content/KJ 5.wav\",\"/content/KJ 6.wav\",\"/content/KJ 7.wav\",\"/content/Maha 1.m4a\",\"/content/Maha 2.m4a\",\"/content/Maha 3.m4a\",\"/content/Maha 4.m4a\",\"/content/Maha 5.m4a\",\"/content/Maha 6.m4a\",\"/content/Maha 7.m4a\",\"/content/Muhammad 1.m4a\",\"/content/Muhammad 2.m4a\",\"/content/Muhammad 3.m4a\",\"/content/Muhammad 4.m4a\",\"/content/Muhammad 5.m4a\",\"/content/Muhammad 6.m4a\",\"/content/Muhammad 7.m4a\",\"/content/Sajid 1.wav\",\"/content/Sajid 2.wav\",\"/content/Sajid 3.wav\",\"/content/Sajid 4.wav\",\"/content/Sajid 5.wav\",\"/content/Sajid 6.wav\",\"/content/Sajid 7.wav\",\"/content/Wareesha 1.m4a\",\"/content/Wareesha 2.m4a\",\"/content/Wareesha 3.m4a\",\"/content/Wareesha 4.m4a\",\"/content/Wareesha 5.m4a\",\"/content/Wareesha 6.m4a\",\"/content/Wareesha 7.m4a\",\"/content/hamza 1.wav\",\"/content/hamza 2.wav\",\"/content/hamza 3.wav\",\"/content/hamza 4.wav\",\"/content/hamza 5.wav\",\"/content/hamza 6.wav\",\"/content/hamza 7.wav\",\"/content/maryyam 1.wav\",\"/content/maryyam 2.wav\",\"/content/maryyam 3.wav\",\"/content/maryyam 4.wav\",\"/content/maryyam 5.wav\",\"/content/maryyam 6.wav\",\"/content/maryyam 7.wav\",\"/content/muniba 1.wav\",\"/content/muniba 2.wav\",\"/content/muniba 3.wav\",\"/content/muniba 4.wav\",\"/content/muniba 5.wav\",\"/content/muniba 6.wav\",\"/content/muniba 7.wav\",\"/content/suhaira 1.wav\",\"/content/suhaira 2.wav\",\"/content/suhaira 3.wav\",\"/content/suhaira 4.wav\",\"/content/suhaira 5.wav\",\"/content/suhaira 6.wav\"]\n",
        "labels = [\"label1\", \"label2\", \"label3\", \"label4\", \"label5\", \"label6\", \"label7\",\"label8\", \"label9\", \"label10\", \"label11\", \"label12\", \"label13\", \"label14\",\"label15\", \"label16\", \"label17\", \"label18\", \"label19\", \"label20\", \"label21\",\"label22\", \"label23\", \"label24\", \"label25\", \"label26\", \"label27\", \"label28\",\"label29\", \"label30\", \"label31\", \"label32\", \"label33\", \"label34\", \"label35\"\"label36\", \"label37\", \"label38\", \"label39\", \"label40\", \"label41\", \"label42\",\"label43\", \"label44\", \"label45\", \"label46\", \"label47\", \"label48\", \"label49\",\"label50\", \"label51\", \"label52\", \"label53\", \"label54\", \"label55\", \"label56\",\"label57\", \"label58\", \"label59\", \"label60\", \"label61\", \"label62\", \"label63\",\"label164\", \"label65\", \"label66\", \"label67\", \"label68\", \"label69\", \"label70\",\"labe7l\", \"label72\", \"label73\", \"label74\", \"label75\", \"label76\", \"label77\",\"label78\",  \"label79\",\"label80\", \"label81\", \"label82\", \"label83\", \"label84\",\"label85\", \"label86\", \"label87\", \"label88\", \"label89\", \"label90\"]\n",
        "\n",
        "# Step 1: Feature Extraction using MFCC\n",
        "def extract_features(file_path, mfcc=True, chroma=True, mel=True):\n",
        "    signal, sr = librosa.load(file_path, sr=None)\n",
        "    features = []\n",
        "    if mfcc:\n",
        "        mfccs = np.mean(librosa.feature.mfcc(y=signal, sr=sr, n_mfcc=40).T, axis=0)\n",
        "        features.append(mfccs)\n",
        "    if chroma:\n",
        "        chroma = np.mean(librosa.feature.chroma_stft(y=signal, sr=sr).T,axis=0)\n",
        "        features.append(chroma)\n",
        "    if mel:\n",
        "        mel = np.mean(librosa.feature.melspectrogram(y=signal, sr=sr).T,axis=0)\n",
        "        features.append(mel)\n",
        "    return np.concatenate(features)\n",
        "\n",
        "# Step 2: Creating DataFrame of features and labels\n",
        "data = []\n",
        "for file_path, label in zip(file_paths, labels):\n",
        "    features = extract_features(file_path)\n",
        "    data.append([features, label])\n",
        "\n",
        "df = pd.DataFrame(data, columns=['features', 'label'])\n",
        "\n",
        "# Step 3: Perform Label Encoding for labels\n",
        "encoder = LabelEncoder()\n",
        "df['label'] = encoder.fit_transform(df['label'])\n",
        "\n",
        "# Step 4: Splitting data for training and testing\n",
        "X = np.array(df['features'].tolist())\n",
        "y = np.array(df['label'])\n",
        "X_train, X_test, y_train, y_test = train_test_split(X, y, test_size=0.2, random_state=42)\n",
        "\n",
        "# Step 5: Apply Different Models\n",
        "# Random Forest\n",
        "rf_model = RandomForestClassifier(n_estimators=100)\n",
        "rf_model.fit(X_train, y_train)\n",
        "rf_predictions = rf_model.predict(X_test)\n",
        "rf_accuracy = accuracy_score(y_test, rf_predictions)\n",
        "print(\"Random Forest Accuracy:\", rf_accuracy)\n",
        "\n",
        "# Support Vector Machine (SVM)\n",
        "svm_model = SVC()\n",
        "svm_model.fit(X_train, y_train)\n",
        "svm_predictions = svm_model.predict(X_test)\n",
        "svm_accuracy = accuracy_score(y_test, svm_predictions)\n",
        "print(\"SVM Accuracy:\", svm_accuracy)\n",
        "\n",
        "# Conclusion\n",
        "if rf_accuracy > svm_accuracy:\n",
        "    print(\"Random Forest performs better.\")\n",
        "    predictions = rf_model.predict(X_test)\n",
        "else:\n",
        "    print(\"SVM performs better.\")\n",
        "    predictions = svm_model.predict(X_test)\n",
        "\n",
        "# Make predictions\n",
        "predicted_labels = encoder.inverse_transform(predictions)\n",
        "print(\"Predicted Labels:\", predicted_labels)\n"
      ],
      "metadata": {
        "colab": {
          "base_uri": "https://localhost:8080/"
        },
        "id": "bGXjOimXkWsL",
        "outputId": "a368ab0e-a63c-4149-c074-76de12388cc5"
      },
      "execution_count": 56,
      "outputs": [
        {
          "output_type": "stream",
          "name": "stdout",
          "text": [
            "Random Forest Accuracy: 0.0\n",
            "SVM Accuracy: 0.0\n",
            "SVM performs better.\n",
            "Predicted Labels: ['label47' 'label58' 'label9' 'label35label36' 'label49' 'label3'\n",
            " 'label68' 'label8' 'label33' 'label12' 'label27' 'label12' 'label40'\n",
            " 'label80' 'label81' 'label43' 'label78' 'label65']\n"
          ]
        }
      ]
    },
    {
      "cell_type": "code",
      "source": [
        "# Task 2"
      ],
      "metadata": {
        "id": "mk4q-6Xzsyd_"
      },
      "execution_count": 19,
      "outputs": []
    },
    {
      "cell_type": "code",
      "source": [
        "#Import load from librosa core to load audio files."
      ],
      "metadata": {
        "id": "lspIDOLgsyg6"
      },
      "execution_count": 21,
      "outputs": []
    },
    {
      "cell_type": "code",
      "source": [
        "#Import load from librosa core to load audio files.\n",
        "\n",
        "# Define file paths and labels\n",
        "file_paths = [\"/content/Afnan 1.wav\",\"/content/Afnan 2.wav\",\"/content/Afnan 3.wav\",\"/content/Afnan 4.wav\",\"/content/Afnan 5.wav\",\"/content/Afnan 6.wav\",\"/content/Afnan 7.wav\",\"/content/Azka 1.m4a\",\"/content/Azka 2.m4a\",\"/content/Azka 3.m4a\",\"/content/Azka 4.m4a\",\"/content/Azka 5.m4a\",\"/content/Azka 6.m4a\",\"/content/Azka 7.m4a\",\"/content/Fatima 1.wav\",\"/content/Afnan 5.wav\",\"/content/Afnan 6.wav\",\"/content/Afnan 7.wav\",\"/content/Azka 1.m4a\",\"/content/Azka 2.m4a\",\"/content/Azka 3.m4a\",\"/content/Azka 4.m4a\",\"/content/Azka 5.m4a\",\"/content/Azka 6.m4a\",\"/content/Azka 7.m4a\",\"/content/Fatima 1.wav\",\"/content/Afnan 5.wav\",\"/content/Afnan 6.wav\",\"/content/Afnan 7.wav\",\"/content/Azka 1.m4a\",\"/content/Azka 2.m4a\",\"/content/Azka 3.m4a\",\"/content/Azka 4.m4a\",\"/content/Azka 5.m4a\",\"/content/Azka 6.m4a\",\"/content/Azka 7.m4a\",\"/content/Fatima 1.wav\",\"/content/Fatima 2.wav\",\"/content/Fatima 3.wav\",\"/content/Fatima 4.wav\",\"/content/Fatima 5.wav\",\"/content/Fatima 6.wav\",\"/content/Fatima 7.wav\",\"/content/Fozia 1.m4a\",\"/content/Fozia 2.m4a\",\"/content/Fozia 3.m4a\",\"/content/Fozia 4.m4a\",\"/content/Fozia 5.m4a\",\"/content/Fozia 6.m4a\",\"/content/Fozia 7.m4a\",\"/content/KJ 1.wav\",\"/content/KJ 2.wav\",\"/content/KJ 3.wav\",\"/content/KJ 4.wav\",\"/content/KJ 5.wav\",\"/content/KJ 6.wav\",\"/content/KJ 7.wav\",\"/content/Maha 1.m4a\",\"/content/Maha 2.m4a\",\"/content/Maha 3.m4a\",\"/content/Maha 4.m4a\",\"/content/Maha 5.m4a\",\"/content/Maha 6.m4a\",\"/content/Maha 7.m4a\",\"/content/Muhammad 1.m4a\",\"/content/Muhammad 2.m4a\",\"/content/Muhammad 3.m4a\",\"/content/Muhammad 4.m4a\",\"/content/Muhammad 5.m4a\",\"/content/Muhammad 6.m4a\",\"/content/Muhammad 7.m4a\",\"/content/Sajid 1.wav\",\"/content/Sajid 2.wav\",\"/content/Sajid 3.wav\",\"/content/Sajid 4.wav\",\"/content/Sajid 5.wav\",\"/content/Sajid 6.wav\",\"/content/Sajid 7.wav\",\"/content/Wareesha 1.m4a\",\"/content/Wareesha 2.m4a\",\"/content/Wareesha 3.m4a\",\"/content/Wareesha 4.m4a\",\"/content/Wareesha 5.m4a\",\"/content/Wareesha 6.m4a\",\"/content/Wareesha 7.m4a\",\"/content/hamza 1.wav\",\"/content/hamza 2.wav\",\"/content/hamza 3.wav\",\"/content/hamza 4.wav\",\"/content/hamza 5.wav\",\"/content/hamza 6.wav\",\"/content/hamza 7.wav\",\"/content/maryyam 1.wav\",\"/content/maryyam 2.wav\",\"/content/maryyam 3.wav\",\"/content/maryyam 4.wav\",\"/content/maryyam 5.wav\",\"/content/maryyam 6.wav\",\"/content/maryyam 7.wav\",\"/content/muniba 1.wav\",\"/content/muniba 2.wav\",\"/content/muniba 3.wav\",\"/content/muniba 4.wav\",\"/content/muniba 5.wav\",\"/content/muniba 6.wav\",\"/content/muniba 7.wav\",\"/content/suhaira 1.wav\",\"/content/suhaira 2.wav\",\"/content/suhaira 3.wav\",\"/content/suhaira 4.wav\",\"/content/suhaira 5.wav\",\"/content/suhaira 6.wav\"]\n",
        "labels = [\"label1\", \"label2\", \"label3\", \"label4\", \"label5\", \"label6\", \"label7\",\"label8\", \"label9\", \"label10\", \"label11\", \"label12\", \"label13\", \"label14\",\"label15\", \"label16\", \"label17\", \"label18\", \"label19\", \"label20\", \"label21\",\"label22\", \"label23\", \"label24\", \"label25\", \"label26\", \"label27\", \"label28\",\"label29\", \"label30\", \"label31\", \"label32\", \"label33\", \"label34\", \"label35\"\"label36\", \"label37\", \"label38\", \"label39\", \"label40\", \"label41\", \"label42\",\"label43\", \"label44\", \"label45\", \"label46\", \"label47\", \"label48\", \"label49\",\"label50\", \"label51\", \"label52\", \"label53\", \"label54\", \"label55\", \"label56\",\"label57\", \"label58\", \"label59\", \"label60\", \"label61\", \"label62\", \"label63\",\"label164\", \"label65\", \"label66\", \"label67\", \"label68\", \"label69\", \"label70\",\"labe7l\", \"label72\", \"label73\", \"label74\", \"label75\", \"label76\", \"label77\",\"label78\",  \"label79\",\"label80\", \"label81\", \"label82\", \"label83\", \"label84\",\"label85\", \"label86\", \"label87\", \"label88\", \"label89\", \"label90\"]\n",
        "\n",
        "# Step 1: Feature Extraction using MFCC\n",
        "def extract_features(file_path, mfcc=True, chroma=True, mel=True):\n",
        "    signal, sr = librosa.load(file_path, sr=None)\n",
        "    features = []\n",
        "    if mfcc:\n",
        "        mfccs = np.mean(librosa.feature.mfcc(y=signal, sr=sr, n_mfcc=40).T, axis=0)\n",
        "        features.append(mfccs)\n",
        "    if chroma:\n",
        "        chroma = np.mean(librosa.feature.chroma_stft(y=signal, sr=sr).T,axis=0)\n",
        "        features.append(chroma)\n",
        "    if mel:\n",
        "        mel = np.mean(librosa.feature.melspectrogram(y=signal, sr=sr).T,axis=0)\n",
        "        features.append(mel)\n",
        "    return np.concatenate(features)\n",
        "\n",
        "# Step 2: Create DataFrame of features and labels\n",
        "data = []\n",
        "for file_path, label in zip(file_paths, labels):\n",
        "    features = extract_features(file_path)\n",
        "    data.append([file_path, features, label])\n",
        "\n",
        "df = pd.DataFrame(data, columns=['file_path', 'features', 'label'])\n",
        "\n",
        "print(df)\n"
      ],
      "metadata": {
        "colab": {
          "base_uri": "https://localhost:8080/"
        },
        "id": "9hJ-LuzDsynl",
        "outputId": "6c5b64ec-089b-4f57-a595-67bf1d5af914"
      },
      "execution_count": 57,
      "outputs": [
        {
          "output_type": "stream",
          "name": "stdout",
          "text": [
            "                  file_path  \\\n",
            "0      /content/Afnan 1.wav   \n",
            "1      /content/Afnan 2.wav   \n",
            "2      /content/Afnan 3.wav   \n",
            "3      /content/Afnan 4.wav   \n",
            "4      /content/Afnan 5.wav   \n",
            "..                      ...   \n",
            "84  /content/Wareesha 7.m4a   \n",
            "85     /content/hamza 1.wav   \n",
            "86     /content/hamza 2.wav   \n",
            "87     /content/hamza 3.wav   \n",
            "88     /content/hamza 4.wav   \n",
            "\n",
            "                                             features    label  \n",
            "0   [-425.18796, 128.06259, 32.936268, 4.6902094, ...   label1  \n",
            "1   [-436.67883, 121.107185, 33.627842, 10.1208935...   label2  \n",
            "2   [-428.63342, 123.17161, 36.291615, 6.4560747, ...   label3  \n",
            "3   [-446.59457, 128.58122, 34.04227, 5.37996, 19....   label4  \n",
            "4   [-418.47122, 128.82288, 36.707775, 4.8665924, ...   label5  \n",
            "..                                                ...      ...  \n",
            "84  [-338.0235, 156.19298, -17.300144, 9.402385, -...  label86  \n",
            "85  [-403.33743, 138.64513, 29.245941, 1.17732, 9....  label87  \n",
            "86  [-411.82812, 135.01334, 31.385653, -1.346189, ...  label88  \n",
            "87  [-406.21896, 136.32538, 35.7379, 3.122014, 7.1...  label89  \n",
            "88  [-421.93085, 147.50143, 31.678574, -1.4649587,...  label90  \n",
            "\n",
            "[89 rows x 3 columns]\n"
          ]
        }
      ]
    },
    {
      "cell_type": "code",
      "source": [
        "# Task 3"
      ],
      "metadata": {
        "id": "qxGa5dousyqe"
      },
      "execution_count": 23,
      "outputs": []
    },
    {
      "cell_type": "code",
      "source": [
        "#Make a DataFrame of features and labels"
      ],
      "metadata": {
        "id": "TNo5oTRxsyuC"
      },
      "execution_count": 24,
      "outputs": []
    },
    {
      "cell_type": "code",
      "source": [
        "# Define file paths and labels\n",
        "file_paths = [\"/content/Afnan 1.wav\",\"/content/Afnan 2.wav\",\"/content/Afnan 3.wav\",\"/content/Afnan 4.wav\",\"/content/Afnan 5.wav\",\"/content/Afnan 6.wav\",\"/content/Afnan 7.wav\",\"/content/Azka 1.m4a\",\"/content/Azka 2.m4a\",\"/content/Azka 3.m4a\",\"/content/Azka 4.m4a\",\"/content/Azka 5.m4a\",\"/content/Azka 6.m4a\",\"/content/Azka 7.m4a\",\"/content/Fatima 1.wav\",\"/content/Afnan 5.wav\",\"/content/Afnan 6.wav\",\"/content/Afnan 7.wav\",\"/content/Azka 1.m4a\",\"/content/Azka 2.m4a\",\"/content/Azka 3.m4a\",\"/content/Azka 4.m4a\",\"/content/Azka 5.m4a\",\"/content/Azka 6.m4a\",\"/content/Azka 7.m4a\",\"/content/Fatima 1.wav\",\"/content/Afnan 5.wav\",\"/content/Afnan 6.wav\",\"/content/Afnan 7.wav\",\"/content/Azka 1.m4a\",\"/content/Azka 2.m4a\",\"/content/Azka 3.m4a\",\"/content/Azka 4.m4a\",\"/content/Azka 5.m4a\",\"/content/Azka 6.m4a\",\"/content/Azka 7.m4a\",\"/content/Fatima 1.wav\",\"/content/Afnan 5.wav\",\"/content/Afnan 6.wav\",\"/content/Afnan 7.wav\",\"/content/Azka 1.m4a\",\"/content/Azka 2.m4a\",\"/content/Azka 3.m4a\",\"/content/Azka 4.m4a\",\"/content/Azka 5.m4a\",\"/content/Azka 6.m4a\",\"/content/Azka 7.m4a\",\"/content/Fatima 1.wav\",\"/content/Afnan 5.wav\",\"/content/Afnan 6.wav\",\"/content/Afnan 7.wav\",\"/content/Azka 1.m4a\",\"/content/Azka 2.m4a\",\"/content/Azka 3.m4a\",\"/content/Azka 4.m4a\",\"/content/Azka 5.m4a\",\"/content/Azka 6.m4a\",\"/content/Azka 7.m4a\",\"/content/Fatima 1.wav\",\"/content/Afnan 5.wav\",\"/content/Afnan 6.wav\",\"/content/Afnan 7.wav\",\"/content/Azka 1.m4a\",\"/content/Azka 2.m4a\",\"/content/Azka 3.m4a\",\"/content/Azka 4.m4a\",\"/content/Azka 5.m4a\",\"/content/Azka 6.m4a\",\"/content/Azka 7.m4a\",\"/content/Fatima 1.wav\",\"/content/Afnan 5.wav\",\"/content/Afnan 6.wav\",\"/content/Afnan 7.wav\",\"/content/Azka 1.m4a\",\"/content/Azka 2.m4a\",\"/content/Azka 3.m4a\",\"/content/Azka 4.m4a\",\"/content/Azka 5.m4a\",\"/content/Azka 6.m4a\",\"/content/Azka 7.m4a\",\"/content/Fatima 1.wav\",\"/content/Afnan 5.wav\",\"/content/Afnan 6.wav\",\"/content/Afnan 7.wav\",\"/content/Azka 1.m4a\",\"/content/Azka 2.m4a\",\"/content/Azka 3.m4a\",\"/content/Azka 4.m4a\",\"/content/Azka 5.m4a\",\"/content/Azka 6.m4a\",\"/content/Azka 7.m4a\",\"/content/Fatima 1.wav\",\"/content/Fatima 2.wav\",\"/content/Fatima 3.wav\",\"/content/Fatima 4.wav\",\"/content/Fatima 5.wav\",\"/content/Fatima 6.wav\",\"/content/Fatima 7.wav\",\"/content/Fozia 1.m4a\",\"/content/Fozia 2.m4a\",\"/content/Fozia 3.m4a\",\"/content/Fozia 4.m4a\",\"/content/Fozia 5.m4a\",\"/content/Fozia 6.m4a\",\"/content/Fozia 7.m4a\",\"/content/Fozia 8.m4a\",\"/content/KJ 1.wav\",\"/content/KJ 2.wav\",\"/content/KJ 3.wav\",\"/content/KJ 4.wav\",\"/content/KJ 5.wav\",\"/content/KJ 6.wav\",\"/content/KJ 7.wav\",\"/content/Maha 1.m4a\",\"/content/Maha 2.m4a\",\"/content/Maha 3.m4a\",\"/content/Maha 4.m4a\",\"/content/Maha 5.m4a\",\"/content/Maha 6.m4a\",\"/content/Maha 7.m4a\",\"/content/Muhammad 1.m4a\",\"/content/Muhammad 2.m4a\",\"/content/Muhammad 3.m4a\",\"/content/Muhammad 4.m4a\",\"/content/Muhammad 5.m4a\",\"/content/Muhammad 6.m4a\",\"/content/Muhammad 7.m4a\",\"/content/Sajid 1.wav\",\"/content/Sajid 2.wav\",\"/content/Sajid 3.wav\",\"/content/Sajid 4.wav\",\"/content/Sajid 5.wav\",\"/content/Sajid 6.wav\",\"/content/Sajid 7.wav\",\"/content/Wareesha 1.m4a\",\"/content/Wareesha 2.m4a\",\"/content/Wareesha 3.m4a\",\"/content/Wareesha 4.m4a\",\"/content/Wareesha 5.m4a\",\"/content/Wareesha 6.m4a\",\"/content/Wareesha 7.m4a\",\"/content/hamza 1.wav\",\"/content/hamza 2.wav\",\"/content/hamza 3.wav\",\"/content/hamza 4.wav\",\"/content/hamza 5.wav\",\"/content/hamza 6.wav\",\"/content/hamza 7.wav\",\"/content/maryyam 1.wav\",\"/content/maryyam 2.wav\",\"/content/maryyam 3.wav\",\"/content/maryyam 4.wav\",\"/content/maryyam 5.wav\",\"/content/maryyam 6.wav\",\"/content/maryyam 7.wav\",\"/content/muniba 1.wav\",\"/content/muniba 2.wav\",\"/content/muniba 3.wav\",\"/content/muniba 4.wav\",\"/content/muniba 5.wav\",\"/content/muniba 6.wav\",\"/content/muniba 7.wav\",\"/content/suhaira 1.wav\",\"/content/suhaira 2.wav\",\"/content/suhaira 3.wav\",\"/content/suhaira 4.wav\",\"/content/suhaira 5.wav\",\"/content/suhaira 6.wav\"]\n",
        "labels = [\"label1\", \"label2\", \"label3\", \"label4\", \"label5\", \"label6\", \"label7\",\"label8\", \"label9\", \"label10\", \"label11\", \"label12\", \"label13\", \"label14\",\"label15\", \"label16\", \"label17\", \"label18\", \"label19\", \"label20\", \"label21\",\"label22\", \"label23\", \"label24\", \"label25\", \"label26\", \"label27\", \"label28\",\"label29\", \"label30\", \"label31\", \"label32\", \"label33\", \"label34\", \"label35\"\"label36\", \"label37\", \"label38\", \"label39\", \"label40\", \"label41\", \"label42\",\"label43\", \"label44\", \"label45\", \"label46\", \"label47\", \"label48\", \"label49\",\"label50\", \"label51\", \"label52\", \"label53\", \"label54\", \"label55\", \"label56\",\"label57\", \"label58\", \"label59\", \"label60\", \"label61\", \"label62\", \"label63\",\"label164\", \"label65\", \"label66\", \"label67\", \"label68\", \"label69\", \"label70\",\"labe7l\", \"label72\", \"label73\", \"label74\", \"label75\", \"label76\", \"label77\",\"label78\",  \"label79\",\"label80\", \"label81\", \"label82\", \"label83\", \"label84\",\"label85\", \"label86\", \"label87\", \"label88\", \"label89\", \"label90\"]\n",
        "\n",
        "\n",
        "# Step 1: Feature Extraction using MFCC\n",
        "def extract_features(file_path, mfcc=True, chroma=True, mel=True):\n",
        "    signal, sr = librosa.load(file_path, sr=None)\n",
        "    features = []\n",
        "    if mfcc:\n",
        "        mfccs = np.mean(librosa.feature.mfcc(y=signal, sr=sr, n_mfcc=40).T, axis=0)\n",
        "        features.append(mfccs)\n",
        "    if chroma:\n",
        "        chroma = np.mean(librosa.feature.chroma_stft(y=signal, sr=sr).T,axis=0)\n",
        "        features.append(chroma)\n",
        "    if mel:\n",
        "        mel = np.mean(librosa.feature.melspectrogram(y=signal, sr=sr).T,axis=0)\n",
        "        features.append(mel)\n",
        "    return np.concatenate(features)\n",
        "\n",
        "# Step 2: Create DataFrame of features and labels\n",
        "data = []\n",
        "for file_path, label in zip(file_paths, labels):\n",
        "    features = extract_features(file_path)\n",
        "    data.append([file_path, features, label])\n",
        "\n",
        "df = pd.DataFrame(data, columns=['file_path', 'features', 'label'])\n",
        "\n",
        "print(df)\n"
      ],
      "metadata": {
        "colab": {
          "base_uri": "https://localhost:8080/"
        },
        "id": "KnLk8paRsyw_",
        "outputId": "1252a521-9ddb-4b16-a0c0-45d3a60f8a85"
      },
      "execution_count": 58,
      "outputs": [
        {
          "output_type": "stream",
          "name": "stdout",
          "text": [
            "               file_path                                           features  \\\n",
            "0   /content/Afnan 1.wav  [-425.18796, 128.06259, 32.936268, 4.6902094, ...   \n",
            "1   /content/Afnan 2.wav  [-436.67883, 121.107185, 33.627842, 10.1208935...   \n",
            "2   /content/Afnan 3.wav  [-428.63342, 123.17161, 36.291615, 6.4560747, ...   \n",
            "3   /content/Afnan 4.wav  [-446.59457, 128.58122, 34.04227, 5.37996, 19....   \n",
            "4   /content/Afnan 5.wav  [-418.47122, 128.82288, 36.707775, 4.8665924, ...   \n",
            "..                   ...                                                ...   \n",
            "84   /content/Azka 1.m4a  [-327.24658, 143.77597, -25.306864, 9.504438, ...   \n",
            "85   /content/Azka 2.m4a  [-313.84006, 136.2753, -23.477139, 10.540143, ...   \n",
            "86   /content/Azka 3.m4a  [-331.11713, 140.95552, -25.680939, 1.3183359,...   \n",
            "87   /content/Azka 4.m4a  [-313.50198, 138.17313, -42.939922, 13.502901,...   \n",
            "88   /content/Azka 5.m4a  [-309.80908, 147.75058, -34.03069, 12.77122, -...   \n",
            "\n",
            "      label  \n",
            "0    label1  \n",
            "1    label2  \n",
            "2    label3  \n",
            "3    label4  \n",
            "4    label5  \n",
            "..      ...  \n",
            "84  label86  \n",
            "85  label87  \n",
            "86  label88  \n",
            "87  label89  \n",
            "88  label90  \n",
            "\n",
            "[89 rows x 3 columns]\n"
          ]
        }
      ]
    },
    {
      "cell_type": "code",
      "source": [
        "# Convert lists to numpy arrays\n",
        "features = np.array(features)\n",
        "labels = np.array(labels)\n",
        "# Print shape of features and labels\n",
        "print(\"Features shape:\", features.shape)\n",
        "print(\"Labels shape:\", labels.shape)\n",
        "\n"
      ],
      "metadata": {
        "colab": {
          "base_uri": "https://localhost:8080/"
        },
        "id": "oX9xOKTAsPGK",
        "outputId": "45134a99-80c7-4060-fd26-2e7c71eeae2a"
      },
      "execution_count": 59,
      "outputs": [
        {
          "output_type": "stream",
          "name": "stdout",
          "text": [
            "Features shape: (180,)\n",
            "Labels shape: (89,)\n"
          ]
        }
      ]
    },
    {
      "cell_type": "code",
      "source": [
        "# Task 4"
      ],
      "metadata": {
        "id": "r8LDXvloyj-t"
      },
      "execution_count": 28,
      "outputs": []
    },
    {
      "cell_type": "code",
      "source": [
        "#Perform preprocessing on features and labels.\n"
      ],
      "metadata": {
        "id": "NPiiQfCAykBr"
      },
      "execution_count": 29,
      "outputs": []
    },
    {
      "cell_type": "code",
      "source": [
        "import numpy as np\n",
        "import pandas as pd\n",
        "import librosa\n",
        "from sklearn.preprocessing import StandardScaler, LabelEncoder\n",
        "\n",
        "# Define file paths and labels\n",
        "file_paths = [\"/content/Afnan 1.wav\",\"/content/Afnan 2.wav\",\"/content/Afnan 3.wav\",\"/content/Afnan 4.wav\",\"/content/Afnan 5.wav\",\"/content/Afnan 6.wav\",\"/content/Afnan 7.wav\",\"/content/Azka 1.m4a\",\"/content/Azka 2.m4a\",\"/content/Azka 3.m4a\",\"/content/Azka 4.m4a\",\"/content/Azka 5.m4a\",\"/content/Azka 6.m4a\",\"/content/Azka 7.m4a\",\"/content/Fatima 1.wav\",\"/content/Afnan 5.wav\",\"/content/Afnan 6.wav\",\"/content/Afnan 7.wav\",\"/content/Azka 1.m4a\",\"/content/Azka 2.m4a\",\"/content/Azka 3.m4a\",\"/content/Azka 4.m4a\",\"/content/Azka 5.m4a\",\"/content/Azka 6.m4a\",\"/content/Azka 7.m4a\",\"/content/Fatima 1.wav\",\"/content/Afnan 5.wav\",\"/content/Afnan 6.wav\",\"/content/Afnan 7.wav\",\"/content/Azka 1.m4a\",\"/content/Azka 2.m4a\",\"/content/Azka 3.m4a\",\"/content/Azka 4.m4a\",\"/content/Azka 5.m4a\",\"/content/Azka 6.m4a\",\"/content/Azka 7.m4a\",\"/content/Fatima 1.wav\",\"/content/Fatima 2.wav\",\"/content/Fatima 3.wav\",\"/content/Fatima 4.wav\",\"/content/Fatima 5.wav\",\"/content/Fatima 6.wav\",\"/content/Fatima 7.wav\",\"/content/Fozia 1.m4a\",\"/content/Fozia 2.m4a\",\"/content/Fozia 3.m4a\",\"/content/Fozia 4.m4a\",\"/content/Fozia 5.m4a\",\"/content/Fozia 6.m4a\",\"/content/Fozia 7.m4a\",\"/content/KJ 1.wav\",\"/content/KJ 2.wav\",\"/content/KJ 3.wav\",\"/content/KJ 4.wav\",\"/content/KJ 5.wav\",\"/content/KJ 6.wav\",\"/content/KJ 7.wav\",\"/content/Maha 1.m4a\",\"/content/Maha 2.m4a\",\"/content/Maha 3.m4a\",\"/content/Maha 4.m4a\",\"/content/Maha 5.m4a\",\"/content/Maha 6.m4a\",\"/content/Maha 7.m4a\",\"/content/Muhammad 1.m4a\",\"/content/Muhammad 2.m4a\",\"/content/Muhammad 3.m4a\",\"/content/Muhammad 4.m4a\",\"/content/Muhammad 5.m4a\",\"/content/Muhammad 6.m4a\",\"/content/Muhammad 7.m4a\",\"/content/Sajid 1.wav\",\"/content/Sajid 2.wav\",\"/content/Sajid 3.wav\",\"/content/Sajid 4.wav\",\"/content/Sajid 5.wav\",\"/content/Sajid 6.wav\",\"/content/Sajid 7.wav\",\"/content/Wareesha 1.m4a\",\"/content/Wareesha 2.m4a\",\"/content/Wareesha 3.m4a\",\"/content/Wareesha 4.m4a\",\"/content/Wareesha 5.m4a\",\"/content/Wareesha 6.m4a\",\"/content/Wareesha 7.m4a\",\"/content/hamza 1.wav\",\"/content/hamza 2.wav\",\"/content/hamza 3.wav\",\"/content/hamza 4.wav\",\"/content/hamza 5.wav\",\"/content/hamza 6.wav\",\"/content/hamza 7.wav\",\"/content/maryyam 1.wav\",\"/content/maryyam 2.wav\",\"/content/maryyam 3.wav\",\"/content/maryyam 4.wav\",\"/content/maryyam 5.wav\",\"/content/maryyam 6.wav\",\"/content/maryyam 7.wav\",\"/content/muniba 1.wav\",\"/content/muniba 2.wav\",\"/content/muniba 3.wav\",\"/content/muniba 4.wav\",\"/content/muniba 5.wav\",\"/content/muniba 6.wav\",\"/content/muniba 7.wav\",\"/content/suhaira 1.wav\",\"/content/suhaira 2.wav\",\"/content/suhaira 3.wav\",\"/content/suhaira 4.wav\",\"/content/suhaira 5.wav\",\"/content/suhaira 6.wav\"]\n",
        "labels = [\"label1\", \"label2\", \"label3\", \"label4\", \"label5\", \"label6\", \"label7\",\"label8\", \"label9\", \"label10\", \"label11\", \"label12\", \"label13\", \"label14\",\"label15\", \"label16\", \"label17\", \"label18\", \"label19\", \"label20\", \"label21\",\"label22\", \"label23\", \"label24\", \"label25\", \"label26\", \"label27\", \"label28\",\"label29\", \"label30\", \"label31\", \"label32\", \"label33\", \"label34\", \"label35\"\"label36\", \"label37\", \"label38\", \"label39\", \"label40\", \"label41\", \"label42\",\"label43\", \"label44\", \"label45\", \"label46\", \"label47\", \"label48\", \"label49\",\"label50\", \"label51\", \"label52\", \"label53\", \"label54\", \"label55\", \"label56\",\"label57\", \"label58\", \"label59\", \"label60\", \"label61\", \"label62\", \"label63\",\"label164\", \"label65\", \"label66\", \"label67\", \"label68\", \"label69\", \"label70\",\"labe7l\", \"label72\", \"label73\", \"label74\", \"label75\", \"label76\", \"label77\",\"label78\",  \"label79\",\"label80\", \"label81\", \"label82\", \"label83\", \"label84\",\"label85\", \"label86\", \"label87\", \"label88\", \"label89\", \"label90\"]\n",
        "\n",
        "# Step 1: Feature Extraction using MFCC\n",
        "def extract_features(file_path, mfcc=True, chroma=True, mel=True):\n",
        "    signal, sr = librosa.load(file_path, sr=None)\n",
        "    features = []\n",
        "    if mfcc:\n",
        "        mfccs = np.mean(librosa.feature.mfcc(y=signal, sr=sr, n_mfcc=40).T, axis=0)\n",
        "        features.append(mfccs)\n",
        "    if chroma:\n",
        "        chroma = np.mean(librosa.feature.chroma_stft(y=signal, sr=sr).T,axis=0)\n",
        "        features.append(chroma)\n",
        "    if mel:\n",
        "        mel = np.mean(librosa.feature.melspectrogram(y=signal, sr=sr).T,axis=0)\n",
        "        features.append(mel)\n",
        "    return np.concatenate(features)\n",
        "\n",
        "# Step 2: Create DataFrame of features and labels\n",
        "data = []\n",
        "for file_path, label in zip(file_paths, labels):\n",
        "    features = extract_features(file_path)\n",
        "    data.append([file_path, features, label])\n",
        "\n",
        "df = pd.DataFrame(data, columns=['file_path', 'features', 'label'])\n",
        "\n",
        "# Step 3: Preprocessing\n",
        "# Normalize features\n",
        "scaler = StandardScaler()\n",
        "df['features'] = scaler.fit_transform(df['features'].tolist())\n",
        "\n",
        "# Encode labels\n",
        "label_encoder = LabelEncoder()\n",
        "df['label'] = label_encoder.fit_transform(df['label'])\n",
        "\n",
        "print(df)\n"
      ],
      "metadata": {
        "colab": {
          "base_uri": "https://localhost:8080/"
        },
        "id": "-EJ6nv9wykJq",
        "outputId": "d165c321-4fdd-447d-a84b-bb2fb80f27e0"
      },
      "execution_count": 61,
      "outputs": [
        {
          "output_type": "stream",
          "name": "stdout",
          "text": [
            "                  file_path  features  label\n",
            "0      /content/Afnan 1.wav -1.182217      1\n",
            "1      /content/Afnan 2.wav -1.413918     13\n",
            "2      /content/Afnan 3.wav -1.251691     24\n",
            "3      /content/Afnan 4.wav -1.613858     34\n",
            "4      /content/Afnan 5.wav -1.046781     45\n",
            "..                      ...       ...    ...\n",
            "84  /content/Wareesha 7.m4a  0.575359     83\n",
            "85     /content/hamza 1.wav -0.741625     84\n",
            "86     /content/hamza 2.wav -0.912830     85\n",
            "87     /content/hamza 3.wav -0.799728     86\n",
            "88     /content/hamza 4.wav -1.116541     88\n",
            "\n",
            "[89 rows x 3 columns]\n"
          ]
        }
      ]
    },
    {
      "cell_type": "code",
      "source": [
        "# Task 5"
      ],
      "metadata": {
        "id": "zauxuckUykMx"
      },
      "execution_count": 35,
      "outputs": []
    },
    {
      "cell_type": "code",
      "source": [
        "#Split data for training and testing"
      ],
      "metadata": {
        "id": "8iPR-cN5sPM1"
      },
      "execution_count": 36,
      "outputs": []
    },
    {
      "cell_type": "code",
      "source": [
        "import numpy as np\n",
        "import pandas as pd\n",
        "import librosa\n",
        "from sklearn.model_selection import train_test_split\n",
        "from sklearn.preprocessing import StandardScaler, LabelEncoder\n",
        "\n",
        "# Define file paths and labels\n",
        "file_paths = [\"/content/Afnan 1.wav\",\"/content/Afnan 2.wav\",\"/content/Afnan 3.wav\",\"/content/Afnan 4.wav\",\"/content/Afnan 5.wav\",\"/content/Afnan 6.wav\",\"/content/Afnan 7.wav\",\"/content/Azka 1.m4a\",\"/content/Azka 2.m4a\",\"/content/Azka 3.m4a\",\"/content/Azka 4.m4a\",\"/content/Azka 5.m4a\",\"/content/Azka 6.m4a\",\"/content/Azka 7.m4a\",\"/content/Fatima 1.wav\",\"/content/Afnan 5.wav\",\"/content/Afnan 6.wav\",\"/content/Afnan 7.wav\",\"/content/Azka 1.m4a\",\"/content/Azka 2.m4a\",\"/content/Azka 3.m4a\",\"/content/Azka 4.m4a\",\"/content/Azka 5.m4a\",\"/content/Azka 6.m4a\",\"/content/Azka 7.m4a\",\"/content/Fatima 1.wav\",\"/content/Afnan 5.wav\",\"/content/Afnan 6.wav\",\"/content/Afnan 7.wav\",\"/content/Azka 1.m4a\",\"/content/Azka 2.m4a\",\"/content/Azka 3.m4a\",\"/content/Azka 4.m4a\",\"/content/Azka 5.m4a\",\"/content/Azka 6.m4a\",\"/content/Azka 7.m4a\",\"/content/Fatima 1.wav\",\"/content/Fatima 2.wav\",\"/content/Fatima 3.wav\",\"/content/Fatima 4.wav\",\"/content/Fatima 5.wav\",\"/content/Fatima 6.wav\",\"/content/Fatima 7.wav\",\"/content/Fozia 1.m4a\",\"/content/Fozia 2.m4a\",\"/content/Fozia 3.m4a\",\"/content/Fozia 4.m4a\",\"/content/Fozia 5.m4a\",\"/content/Fozia 6.m4a\",\"/content/Fozia 7.m4a\",\"/content/KJ 1.wav\",\"/content/KJ 2.wav\",\"/content/KJ 3.wav\",\"/content/KJ 4.wav\",\"/content/KJ 5.wav\",\"/content/KJ 6.wav\",\"/content/KJ 7.wav\",\"/content/Maha 1.m4a\",\"/content/Maha 2.m4a\",\"/content/Maha 3.m4a\",\"/content/Maha 4.m4a\",\"/content/Maha 5.m4a\",\"/content/Maha 6.m4a\",\"/content/Maha 7.m4a\",\"/content/Muhammad 1.m4a\",\"/content/Muhammad 2.m4a\",\"/content/Muhammad 3.m4a\",\"/content/Muhammad 4.m4a\",\"/content/Muhammad 5.m4a\",\"/content/Muhammad 6.m4a\",\"/content/Muhammad 7.m4a\",\"/content/Sajid 1.wav\",\"/content/Sajid 2.wav\",\"/content/Sajid 3.wav\",\"/content/Sajid 4.wav\",\"/content/Sajid 5.wav\",\"/content/Sajid 6.wav\",\"/content/Sajid 7.wav\",\"/content/Wareesha 1.m4a\",\"/content/Wareesha 2.m4a\",\"/content/Wareesha 3.m4a\",\"/content/Wareesha 4.m4a\",\"/content/Wareesha 5.m4a\",\"/content/Wareesha 6.m4a\",\"/content/Wareesha 7.m4a\",\"/content/hamza 1.wav\",\"/content/hamza 2.wav\",\"/content/hamza 3.wav\",\"/content/hamza 4.wav\",\"/content/hamza 5.wav\",\"/content/hamza 6.wav\",\"/content/hamza 7.wav\",\"/content/maryyam 1.wav\",\"/content/maryyam 2.wav\",\"/content/maryyam 3.wav\",\"/content/maryyam 4.wav\",\"/content/maryyam 5.wav\",\"/content/maryyam 6.wav\",\"/content/maryyam 7.wav\",\"/content/muniba 1.wav\",\"/content/muniba 2.wav\",\"/content/muniba 3.wav\",\"/content/muniba 4.wav\",\"/content/muniba 5.wav\",\"/content/muniba 6.wav\",\"/content/muniba 7.wav\",\"/content/suhaira 1.wav\",\"/content/suhaira 2.wav\",\"/content/suhaira 3.wav\",\"/content/suhaira 4.wav\",\"/content/suhaira 5.wav\",\"/content/suhaira 6.wav\"]\n",
        "labels = [\"label1\", \"label2\", \"label3\", \"label4\", \"label5\", \"label6\", \"label7\",\"label8\", \"label9\", \"label10\", \"label11\", \"label12\", \"label13\", \"label14\",\"label15\", \"label16\", \"label17\", \"label18\", \"label19\", \"label20\", \"label21\",\"label22\", \"label23\", \"label24\", \"label25\", \"label26\", \"label27\", \"label28\",\"label29\", \"label30\", \"label31\", \"label32\", \"label33\", \"label34\", \"label35\"\"label36\", \"label37\", \"label38\", \"label39\", \"label40\", \"label41\", \"label42\",\"label43\", \"label44\", \"label45\", \"label46\", \"label47\", \"label48\", \"label49\",\"label50\", \"label51\", \"label52\", \"label53\", \"label54\", \"label55\", \"label56\",\"label57\", \"label58\", \"label59\", \"label60\", \"label61\", \"label62\", \"label63\",\"label164\", \"label65\", \"label66\", \"label67\", \"label68\", \"label69\", \"label70\",\"labe7l\", \"label72\", \"label73\", \"label74\", \"label75\", \"label76\", \"label77\",\"label78\",  \"label79\",\"label80\", \"label81\", \"label82\", \"label83\", \"label84\",\"label85\", \"label86\", \"label87\", \"label88\", \"label89\", \"label90\"]\n",
        "\n",
        "\n",
        "# Step 1: Feature Extraction using MFCC\n",
        "def extract_features(file_path, mfcc=True, chroma=True, mel=True):\n",
        "    signal, sr = librosa.load(file_path, sr=None)\n",
        "    features = []\n",
        "    if mfcc:\n",
        "        mfccs = np.mean(librosa.feature.mfcc(y=signal, sr=sr, n_mfcc=40).T, axis=0)\n",
        "        features.append(mfccs)\n",
        "    if chroma:\n",
        "        chroma = np.mean(librosa.feature.chroma_stft(y=signal, sr=sr).T,axis=0)\n",
        "        features.append(chroma)\n",
        "    if mel:\n",
        "        mel = np.mean(librosa.feature.melspectrogram(y=signal, sr=sr).T,axis=0)\n",
        "        features.append(mel)\n",
        "    return np.concatenate(features)\n",
        "\n",
        "# Step 2: Create DataFrame of features and labels\n",
        "data = []\n",
        "for file_path, label in zip(file_paths, labels):\n",
        "    features = extract_features(file_path)\n",
        "    data.append([file_path, features, label])\n",
        "\n",
        "df = pd.DataFrame(data, columns=['file_path', 'features', 'label'])\n",
        "\n",
        "# Step 3: Preprocessing\n",
        "# Normalize features\n",
        "scaler = StandardScaler()\n",
        "df['features'] = scaler.fit_transform(df['features'].tolist())\n",
        "\n",
        "# Encode labels\n",
        "label_encoder = LabelEncoder()\n",
        "df['label'] = label_encoder.fit_transform(df['label'])\n",
        "\n",
        "# Step 4: Splitting data for training and testing\n",
        "X = np.array(df['features'].tolist())\n",
        "y = np.array(df['label'])\n",
        "X_train, X_test, y_train, y_test = train_test_split(X, y, test_size=0.2, random_state=42)\n",
        "\n",
        "print(\"X_train shape:\", X_train.shape)\n",
        "print(\"X_test shape:\", X_test.shape)\n",
        "print(\"y_train shape:\", y_train.shape)\n",
        "print(\"y_test shape:\", y_test.shape)\n"
      ],
      "metadata": {
        "colab": {
          "base_uri": "https://localhost:8080/"
        },
        "id": "xcD9xF1A1YHy",
        "outputId": "b224e089-cb27-4cff-95e8-a6f088f08e4d"
      },
      "execution_count": 62,
      "outputs": [
        {
          "output_type": "stream",
          "name": "stdout",
          "text": [
            "X_train shape: (71,)\n",
            "X_test shape: (18,)\n",
            "y_train shape: (71,)\n",
            "y_test shape: (18,)\n"
          ]
        }
      ]
    },
    {
      "cell_type": "code",
      "source": [
        "# Task 6"
      ],
      "metadata": {
        "id": "vN4PGaef1qL_"
      },
      "execution_count": 38,
      "outputs": []
    },
    {
      "cell_type": "code",
      "source": [
        "#Apply different models and conclude the best model and make predictions accordingly."
      ],
      "metadata": {
        "id": "fGANIfER15-v"
      },
      "execution_count": 39,
      "outputs": []
    },
    {
      "cell_type": "code",
      "source": [
        "import numpy as np\n",
        "import pandas as pd\n",
        "import librosa\n",
        "from sklearn.model_selection import train_test_split\n",
        "from sklearn.preprocessing import StandardScaler, LabelEncoder\n",
        "from sklearn.ensemble import RandomForestClassifier\n",
        "from sklearn.svm import SVC\n",
        "from sklearn.metrics import accuracy_score\n",
        "\n",
        "# Define file paths and labels\n",
        "file_paths = [\"/content/Afnan 1.wav\",\"/content/Afnan 2.wav\",\"/content/Afnan 3.wav\",\"/content/Afnan 4.wav\",\"/content/Afnan 5.wav\",\"/content/Afnan 6.wav\",\"/content/Afnan 7.wav\",\"/content/Azka 1.m4a\",\"/content/Azka 2.m4a\",\"/content/Azka 3.m4a\",\"/content/Azka 4.m4a\",\"/content/Azka 5.m4a\",\"/content/Azka 6.m4a\",\"/content/Azka 7.m4a\",\"/content/Fatima 1.wav\",\"/content/Afnan 5.wav\",\"/content/Afnan 6.wav\",\"/content/Afnan 7.wav\",\"/content/Azka 1.m4a\",\"/content/Azka 2.m4a\",\"/content/Azka 3.m4a\",\"/content/Azka 4.m4a\",\"/content/Azka 5.m4a\",\"/content/Azka 6.m4a\",\"/content/Azka 7.m4a\",\"/content/Fatima 1.wav\",\"/content/Afnan 5.wav\",\"/content/Afnan 6.wav\",\"/content/Afnan 7.wav\",\"/content/Azka 1.m4a\",\"/content/Azka 2.m4a\",\"/content/Azka 3.m4a\",\"/content/Azka 4.m4a\",\"/content/Azka 5.m4a\",\"/content/Azka 6.m4a\",\"/content/Azka 7.m4a\",\"/content/Fatima 1.wav\",\"/content/Afnan 5.wav\",\"/content/Afnan 6.wav\",\"/content/Afnan 7.wav\",\"/content/Azka 1.m4a\",\"/content/Azka 2.m4a\",\"/content/Azka 3.m4a\",\"/content/Azka 4.m4a\",\"/content/Azka 5.m4a\",\"/content/Azka 6.m4a\",\"/content/Azka 7.m4a\",\"/content/Fatima 1.wav\",\"/content/Afnan 5.wav\",\"/content/Afnan 6.wav\",\"/content/Afnan 7.wav\",\"/content/Azka 1.m4a\",\"/content/Azka 2.m4a\",\"/content/Azka 3.m4a\",\"/content/Azka 4.m4a\",\"/content/Azka 5.m4a\",\"/content/Azka 6.m4a\",\"/content/Azka 7.m4a\",\"/content/Fatima 1.wav\",\"/content/Afnan 5.wav\",\"/content/Afnan 6.wav\",\"/content/Afnan 7.wav\",\"/content/Azka 1.m4a\",\"/content/Azka 2.m4a\",\"/content/Azka 3.m4a\",\"/content/Azka 4.m4a\",\"/content/Azka 5.m4a\",\"/content/Azka 6.m4a\",\"/content/Azka 7.m4a\",\"/content/Fatima 1.wav\",\"/content/Afnan 5.wav\",\"/content/Afnan 6.wav\",\"/content/Afnan 7.wav\",\"/content/Azka 1.m4a\",\"/content/Azka 2.m4a\",\"/content/Azka 3.m4a\",\"/content/Azka 4.m4a\",\"/content/Azka 5.m4a\",\"/content/Azka 6.m4a\",\"/content/Azka 7.m4a\",\"/content/Fatima 1.wav\",\"/content/Afnan 5.wav\",\"/content/Afnan 6.wav\",\"/content/Afnan 7.wav\",\"/content/Azka 1.m4a\",\"/content/Azka 2.m4a\",\"/content/Azka 3.m4a\",\"/content/Azka 4.m4a\",\"/content/Azka 5.m4a\",\"/content/Azka 6.m4a\",\"/content/Azka 7.m4a\",\"/content/Fatima 1.wav\",\"/content/Fatima 2.wav\",\"/content/Fatima 3.wav\",\"/content/Fatima 4.wav\",\"/content/Fatima 5.wav\",\"/content/Fatima 6.wav\",\"/content/Fatima 7.wav\",\"/content/Fozia 1.m4a\",\"/content/Fozia 2.m4a\",\"/content/Fozia 3.m4a\",\"/content/Fozia 4.m4a\",\"/content/Fozia 5.m4a\",\"/content/Fozia 6.m4a\",\"/content/Fozia 7.m4a\",\"/content/Fozia 8.m4a\",\"/content/KJ 1.wav\",\"/content/KJ 2.wav\",\"/content/KJ 3.wav\",\"/content/KJ 4.wav\",\"/content/KJ 5.wav\",\"/content/KJ 6.wav\",\"/content/KJ 7.wav\",\"/content/Maha 1.m4a\",\"/content/Maha 2.m4a\",\"/content/Maha 3.m4a\",\"/content/Maha 4.m4a\",\"/content/Maha 5.m4a\",\"/content/Maha 6.m4a\",\"/content/Maha 7.m4a\",\"/content/Muhammad 1.m4a\",\"/content/Muhammad 2.m4a\",\"/content/Muhammad 3.m4a\",\"/content/Muhammad 4.m4a\",\"/content/Muhammad 5.m4a\",\"/content/Muhammad 6.m4a\",\"/content/Muhammad 7.m4a\",\"/content/Sajid 1.wav\",\"/content/Sajid 2.wav\",\"/content/Sajid 3.wav\",\"/content/Sajid 4.wav\",\"/content/Sajid 5.wav\",\"/content/Sajid 6.wav\",\"/content/Sajid 7.wav\",\"/content/Wareesha 1.m4a\",\"/content/Wareesha 2.m4a\",\"/content/Wareesha 3.m4a\",\"/content/Wareesha 4.m4a\",\"/content/Wareesha 5.m4a\",\"/content/Wareesha 6.m4a\",\"/content/Wareesha 7.m4a\",\"/content/hamza 1.wav\",\"/content/hamza 2.wav\",\"/content/hamza 3.wav\",\"/content/hamza 4.wav\",\"/content/hamza 5.wav\",\"/content/hamza 6.wav\",\"/content/hamza 7.wav\",\"/content/maryyam 1.wav\",\"/content/maryyam 2.wav\",\"/content/maryyam 3.wav\",\"/content/maryyam 4.wav\",\"/content/maryyam 5.wav\",\"/content/maryyam 6.wav\",\"/content/maryyam 7.wav\",\"/content/muniba 1.wav\",\"/content/muniba 2.wav\",\"/content/muniba 3.wav\",\"/content/muniba 4.wav\",\"/content/muniba 5.wav\",\"/content/muniba 6.wav\",\"/content/muniba 7.wav\",\"/content/suhaira 1.wav\",\"/content/suhaira 2.wav\",\"/content/suhaira 3.wav\",\"/content/suhaira 4.wav\",\"/content/suhaira 5.wav\",\"/content/suhaira 6.wav\"]\n",
        "labels = [\"label1\", \"label2\", \"label3\", \"label4\", \"label5\", \"label6\", \"label7\",\"label8\", \"label9\", \"label10\", \"label11\", \"label12\", \"label13\", \"label14\",\"label15\", \"label16\", \"label17\", \"label18\", \"label19\", \"label20\", \"label21\",\"label22\", \"label23\", \"label24\", \"label25\", \"label26\", \"label27\", \"label28\",\"label29\", \"label30\", \"label31\", \"label32\", \"label33\", \"label34\", \"label35\"\"label36\", \"label37\", \"label38\", \"label39\", \"label40\", \"label41\", \"label42\",\"label43\", \"label44\", \"label45\", \"label46\", \"label47\", \"label48\", \"label49\",\"label50\", \"label51\", \"label52\", \"label53\", \"label54\", \"label55\", \"label56\",\"label57\", \"label58\", \"label59\", \"label60\", \"label61\", \"label62\", \"label63\",\"label164\", \"label65\", \"label66\", \"label67\", \"label68\", \"label69\", \"label70\",\"labe7l\", \"label72\", \"label73\", \"label74\", \"label75\", \"label76\", \"label77\",\"label78\",  \"label79\",\"label80\", \"label81\", \"label82\", \"label83\", \"label84\",\"label85\", \"label86\", \"label87\", \"label88\", \"label89\", \"label90\"]\n",
        "\n",
        "\n",
        "\n",
        "# Step 1: Feature Extraction using MFCC\n",
        "def extract_features(file_path, mfcc=True, chroma=True, mel=True):\n",
        "    signal, sr = librosa.load(file_path, sr=None)\n",
        "    features = []\n",
        "    if mfcc:\n",
        "        mfccs = np.mean(librosa.feature.mfcc(y=signal, sr=sr, n_mfcc=40).T, axis=0)\n",
        "        features.append(mfccs)\n",
        "    if chroma:\n",
        "        chroma = np.mean(librosa.feature.chroma_stft(y=signal, sr=sr).T,axis=0)\n",
        "        features.append(chroma)\n",
        "    if mel:\n",
        "        mel = np.mean(librosa.feature.melspectrogram(y=signal, sr=sr).T,axis=0)\n",
        "        features.append(mel)\n",
        "    return np.concatenate(features)\n",
        "\n",
        "# Step 2: Create DataFrame of features and labels\n",
        "data = []\n",
        "for file_path, label in zip(file_paths, labels):\n",
        "    features = extract_features(file_path)\n",
        "    data.append([file_path, features, label])\n",
        "\n",
        "df = pd.DataFrame(data, columns=['file_path', 'features', 'label'])\n",
        "\n",
        "# Step 3: Preprocessing\n",
        "# Normalize features\n",
        "scaler = StandardScaler()\n",
        "df['features'] = df['features'].apply(lambda x: scaler.fit_transform([x])[0])\n",
        "\n",
        "# Encode labels\n",
        "label_encoder = LabelEncoder()\n",
        "df['label'] = label_encoder.fit_transform(df['label'])\n",
        "\n",
        "# Step 4: Splitting data for training and testing\n",
        "X = np.array(df['features'].tolist())\n",
        "y = np.array(df['label'])\n",
        "X_train, X_test, y_train, y_test = train_test_split(X, y, test_size=0.2, random_state=42)\n",
        "\n",
        "# Step 5: Apply Different Models\n",
        "# Random Forest\n",
        "rf_model = RandomForestClassifier(n_estimators=100)\n",
        "rf_model.fit(X_train, y_train)\n",
        "rf_predictions = rf_model.predict(X_test)\n",
        "rf_accuracy = accuracy_score(y_test, rf_predictions)\n",
        "print(\"Random Forest Accuracy:\", rf_accuracy)\n",
        "\n",
        "# Support Vector Machine (SVM)\n",
        "svm_model = SVC()\n",
        "svm_model.fit(X_train, y_train)\n",
        "svm_predictions = svm_model.predict(X_test)\n",
        "svm_accuracy = accuracy_score(y_test, svm_predictions)\n",
        "print(\"SVM Accuracy:\", svm_accuracy)\n",
        "\n",
        "# Conclusion\n",
        "if rf_accuracy > svm_accuracy:\n",
        "    print(\"Random Forest performs better.\")\n",
        "    best_model = rf_model\n",
        "else:\n",
        "    print(\"SVM performs better.\")\n",
        "    best_model = svm_model\n",
        "\n",
        "# Make predictions\n",
        "test_predictions = best_model.predict(X_test)\n",
        "predicted_labels = label_encoder.inverse_transform(test_predictions)\n",
        "print(\"Predicted Labels:\", predicted_labels)\n"
      ],
      "metadata": {
        "colab": {
          "base_uri": "https://localhost:8080/"
        },
        "id": "pPA9v47o2TWq",
        "outputId": "cd9349f8-01b2-4de4-a95e-f6eb9a84dc79"
      },
      "execution_count": 63,
      "outputs": [
        {
          "output_type": "stream",
          "name": "stdout",
          "text": [
            "Random Forest Accuracy: 0.0\n",
            "SVM Accuracy: 0.0\n",
            "SVM performs better.\n",
            "Predicted Labels: ['label90' 'label90' 'label90' 'label90' 'label90' 'label90' 'label90'\n",
            " 'label90' 'label90' 'label90' 'label90' 'label90' 'label90' 'label90'\n",
            " 'label90' 'label90' 'label90' 'label90']\n"
          ]
        }
      ]
    },
    {
      "cell_type": "code",
      "source": [],
      "metadata": {
        "id": "ejEGlkd04gku"
      },
      "execution_count": null,
      "outputs": []
    }
  ]
}